{
 "cells": [
  {
   "cell_type": "code",
   "execution_count": 6,
   "id": "e09b6229",
   "metadata": {},
   "outputs": [],
   "source": [
    "from sklearn.datasets import load_digits\n",
    "from sklearn.ensemble import RandomForestClassifier as RandomForest\n",
    "from sklearn.linear_model import LogisticRegression\n",
    "import pandas as pd\n",
    "import numpy as np\n",
    "import pickle\n",
    "\n",
    "# import open bandit pipeline (obp)\n",
    "import obp\n",
    "from obp.policy import (\n",
    "    IPWLearner, \n",
    "    QLearner,\n",
    "    NNPolicyLearner, \n",
    "    Random\n",
    ")"
   ]
  },
  {
   "cell_type": "code",
   "execution_count": 7,
   "id": "908a3376",
   "metadata": {},
   "outputs": [],
   "source": [
    "def UIR_to_train(input_file,output_file):\n",
    "    df = pd.read_csv(input_file,header=None)[:1000]\n",
    "\n",
    "\n",
    "    df.columns = ['userID','itemID','rating']\n",
    "    df.shape\n",
    "\n",
    "\n",
    "\n",
    "    #df_L = df.groupby('user_id')[['item_id','rating']].apply(lambda list: ','.join(map(str,list)).strip())\n",
    "    df_L = df.groupby('userID')[['itemID','rating']].apply(agg_fnc).reset_index()\n",
    "\n",
    "    y = np.array(df_L.index.to_list())\n",
    "    X = np.array(df_L[\"userID\"]).reshape(-1,1)\n",
    "    # print(X,y)\n",
    "    ipw_learner =ipw_train_learner(X,y,10)\n",
    "    \n",
    "    \n",
    "    print(ipw_learner.predict(X).reshape(-1,df_L.shape[0]))\n",
    "    \n",
    "    with open(output_file, 'wb') as f:\n",
    "        pickle.dump((ipw_learner,df_L), f)\n",
    "    f.close()\n",
    "    \n",
    "    return df_L, ipw_learner\n",
    "\n",
    "def ipw_train_learner(context,actions,max_iter=5000):\n",
    "    \n",
    "    # define NNPolicyLearner with IPW as its objective function\n",
    "    ipw_rf = IPWLearner(\n",
    "        n_actions=len(actions),\n",
    "        base_classifier = RandomForest(n_estimators=1000,random_state=0).fit(context, actions)\n",
    "        \n",
    "        #base_classifier=RandomForest(\n",
    "        #n_estimators=30, min_samples_leaf=10, random_state=12345\n",
    "        #)\n",
    "    )\n",
    "\n",
    "\n",
    "    rewards = np.ones(len(context))\n",
    "\n",
    "    # train NNPolicyLearner on the training set of logged bandit data\n",
    "    ipw_rf.fit(\n",
    "        context=context,\n",
    "        action=actions,\n",
    "        reward=rewards\n",
    "    )\n",
    "    \n",
    "    return ipw_rf"
   ]
  },
  {
   "cell_type": "code",
   "execution_count": 8,
   "id": "7d1491b5",
   "metadata": {},
   "outputs": [
    {
     "ename": "NameError",
     "evalue": "name 'agg_fnc' is not defined",
     "output_type": "error",
     "traceback": [
      "\u001b[0;31m---------------------------------------------------------------------------\u001b[0m",
      "\u001b[0;31mNameError\u001b[0m                                 Traceback (most recent call last)",
      "\u001b[0;32m/var/folders/rr/v51dsqt53hd0b44brs71kpv80000gn/T/ipykernel_16778/3240432220.py\u001b[0m in \u001b[0;36m<module>\u001b[0;34m\u001b[0m\n\u001b[1;32m      2\u001b[0m \u001b[0minput_file\u001b[0m \u001b[0;34m=\u001b[0m \u001b[0;34m'demo01-out-1.txt'\u001b[0m \u001b[0;31m#change the name from librec-auto (out-1.txt) to (demo02-out-1.txt)\u001b[0m\u001b[0;34m\u001b[0m\u001b[0;34m\u001b[0m\u001b[0m\n\u001b[1;32m      3\u001b[0m \u001b[0moutput_file\u001b[0m \u001b[0;34m=\u001b[0m \u001b[0;34m'IPW_OBP_demo01.pickle'\u001b[0m \u001b[0;31m#demo-2021 FAIR\u001b[0m\u001b[0;34m\u001b[0m\u001b[0;34m\u001b[0m\u001b[0m\n\u001b[0;32m----> 4\u001b[0;31m \u001b[0mdf_L1\u001b[0m\u001b[0;34m,\u001b[0m \u001b[0mlearner1\u001b[0m \u001b[0;34m=\u001b[0m \u001b[0mUIR_to_train\u001b[0m\u001b[0;34m(\u001b[0m\u001b[0minput_file\u001b[0m\u001b[0;34m,\u001b[0m\u001b[0moutput_file\u001b[0m\u001b[0;34m)\u001b[0m\u001b[0;34m\u001b[0m\u001b[0;34m\u001b[0m\u001b[0m\n\u001b[0m",
      "\u001b[0;32m/var/folders/rr/v51dsqt53hd0b44brs71kpv80000gn/T/ipykernel_16778/3859666582.py\u001b[0m in \u001b[0;36mUIR_to_train\u001b[0;34m(input_file, output_file)\u001b[0m\n\u001b[1;32m      9\u001b[0m \u001b[0;34m\u001b[0m\u001b[0m\n\u001b[1;32m     10\u001b[0m     \u001b[0;31m#df_L = df.groupby('user_id')[['item_id','rating']].apply(lambda list: ','.join(map(str,list)).strip())\u001b[0m\u001b[0;34m\u001b[0m\u001b[0;34m\u001b[0m\u001b[0m\n\u001b[0;32m---> 11\u001b[0;31m     \u001b[0mdf_L\u001b[0m \u001b[0;34m=\u001b[0m \u001b[0mdf\u001b[0m\u001b[0;34m.\u001b[0m\u001b[0mgroupby\u001b[0m\u001b[0;34m(\u001b[0m\u001b[0;34m'userID'\u001b[0m\u001b[0;34m)\u001b[0m\u001b[0;34m[\u001b[0m\u001b[0;34m[\u001b[0m\u001b[0;34m'itemID'\u001b[0m\u001b[0;34m,\u001b[0m\u001b[0;34m'rating'\u001b[0m\u001b[0;34m]\u001b[0m\u001b[0;34m]\u001b[0m\u001b[0;34m.\u001b[0m\u001b[0mapply\u001b[0m\u001b[0;34m(\u001b[0m\u001b[0magg_fnc\u001b[0m\u001b[0;34m)\u001b[0m\u001b[0;34m.\u001b[0m\u001b[0mreset_index\u001b[0m\u001b[0;34m(\u001b[0m\u001b[0;34m)\u001b[0m\u001b[0;34m\u001b[0m\u001b[0;34m\u001b[0m\u001b[0m\n\u001b[0m\u001b[1;32m     12\u001b[0m \u001b[0;34m\u001b[0m\u001b[0m\n\u001b[1;32m     13\u001b[0m     \u001b[0my\u001b[0m \u001b[0;34m=\u001b[0m \u001b[0mnp\u001b[0m\u001b[0;34m.\u001b[0m\u001b[0marray\u001b[0m\u001b[0;34m(\u001b[0m\u001b[0mdf_L\u001b[0m\u001b[0;34m.\u001b[0m\u001b[0mindex\u001b[0m\u001b[0;34m.\u001b[0m\u001b[0mto_list\u001b[0m\u001b[0;34m(\u001b[0m\u001b[0;34m)\u001b[0m\u001b[0;34m)\u001b[0m\u001b[0;34m\u001b[0m\u001b[0;34m\u001b[0m\u001b[0m\n",
      "\u001b[0;31mNameError\u001b[0m: name 'agg_fnc' is not defined"
     ]
    }
   ],
   "source": [
    "#demo01 uses re-ranking. This is the reason it was chose for demoOBP_FAIR. The results will be values that are reranked.\n",
    "input_file = 'demo01-out-1.txt' #change the name from librec-auto (out-1.txt) to (demo02-out-1.txt)\n",
    "output_file = 'IPW_OBP_demo01.pickle' #demo-2021 FAIR\n",
    "df_L1, learner1 = UIR_to_train(input_file,output_file)"
   ]
  },
  {
   "cell_type": "code",
   "execution_count": null,
   "id": "3c82cac7",
   "metadata": {},
   "outputs": [],
   "source": [
    "#Demo02 has the algorithm and no re-ranking. \n",
    "input_file = 'demo02-out-1.txt' #change the name from librec-auto (out-1.txt) to (demo02-out-1.txt)\n",
    "output_file = 'IPW_OBP_demo02.pickle' #demo-2021 STANDARD\n",
    "df_L2, learner2= UIR_to_train(input_file,output_file)"
   ]
  }
 ],
 "metadata": {
  "kernelspec": {
   "display_name": "Python 3 (ipykernel)",
   "language": "python",
   "name": "python3"
  },
  "language_info": {
   "codemirror_mode": {
    "name": "ipython",
    "version": 3
   },
   "file_extension": ".py",
   "mimetype": "text/x-python",
   "name": "python",
   "nbconvert_exporter": "python",
   "pygments_lexer": "ipython3",
   "version": "3.9.7"
  }
 },
 "nbformat": 4,
 "nbformat_minor": 5
}
